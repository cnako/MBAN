{
 "cells": [
  {
   "cell_type": "markdown",
   "metadata": {},
   "source": [
    "### BAIT 508 HW1: SEC Filings Analytics\n",
    "\n",
    "# DUE DATE: Sunday, Oct 3rd, 2021 11:59 p.m.!\n"
   ]
  },
  {
   "cell_type": "markdown",
   "metadata": {},
   "source": [
    "- Before taking this assignment, please take a look at the instruction carefully.\n",
    "- In this assignment, you will use your Python skills (`pandas`, `matplotlib`, `for` loop, `if` condition, ...) to analyze SEC filings.\n",
    "- There are short-answer questions and visualization questions. \n",
    "- 20 problems, 5 points each, total 100 points\n",
    "- For visualization questions, save them separately using the specified file name: `hw1_ans{question_number}_{student_id}.png` <br/>\n",
    "(e.g.) <b>hw1_ans13_37510930.png</b>\n",
    "- Please <b>don’t</b> submit the `png` file in Canvas. We will run your code to generate this `png` file!\n",
    "- Submit your Python code in UBC Canvas. DO NOT email your homework to instructors. \n",
    "- In UBC Canvas, please submit your Python code with the file name `hw1_{studentid}.py` (e.g.<b>hwl_37510930.py</b>). Do not zip it!\n",
    "- If you do not keep the standard submission format, there will be an <b>extra deduction</b> on your grade. \n",
    "- If code is not running, you will get <b>minimum</b> grade (Please run `hw1_{studentid}.py` codes by yourself before submitting the assignment).\n",
    "- Late submissions will not be accepted!"
   ]
  },
  {
   "cell_type": "markdown",
   "metadata": {},
   "source": [
    "### Import the appropriate library you need to solve the questions."
   ]
  },
  {
   "cell_type": "code",
   "execution_count": 1,
   "metadata": {},
   "outputs": [],
   "source": [
    "from collections import Counter\n",
    "import pandas as pd\n",
    "import numpy as np\n",
    "import matplotlib.pyplot as plt\n",
    "import statistics\n",
    "import random"
   ]
  },
  {
   "cell_type": "markdown",
   "metadata": {},
   "source": [
    "### Please assign the variables `first_name`, `last_name`, `student_id`, and `email` with your first name, last name, student ID, and email address."
   ]
  },
  {
   "cell_type": "code",
   "execution_count": 2,
   "metadata": {},
   "outputs": [
    {
     "name": "stdout",
     "output_type": "stream",
     "text": [
      "BAIT 508 Assignment 1\n",
      "Carlos Alexandre Nako\n",
      "student id: 45160975\n",
      "cnako@student.ubc.ca\n"
     ]
    }
   ],
   "source": [
    "# Please assign the variables first_name, last_name, student_id, and email with your first name, last name, student ID, and email address.# \n",
    "first_name = str(\"Carlos Alexandre\")\n",
    "last_name = str(\"Nako\")\n",
    "student_id = int(\"45160975\")\n",
    "email = str(\"cnako@student.ubc.ca\")\n",
    "print(\"BAIT 508 Assignment 1\")\n",
    "print(first_name+\" \"+last_name)\n",
    "print(\"student id: \"+str(student_id))\n",
    "print(email)"
   ]
  },
  {
   "cell_type": "markdown",
   "metadata": {},
   "source": [
    "##### Question 1: Find the number of characters in this file and assign it to the `ans1` variable.\n",
    "- Download `feed_header_2017-2019.tsv` file into the same directory, where `hw1_starter.ipynb` is located. (If not, there will be an extra deduction on your grade)\n",
    "- Open `feed_header_2017-2019.tsv` file with `read-only` file mode.\n",
    "- Please use `open` function to open this `TSV` file.\n",
    "- `TSV` file is similar to `CSV`, but its value is separated by `Tab`.\n",
    "\n",
    "[Hint]\n",
    "- `open` function : https://www.w3schools.com/python/ref_func_open.asp"
   ]
  },
  {
   "cell_type": "code",
   "execution_count": 2,
   "metadata": {},
   "outputs": [
    {
     "name": "stdout",
     "output_type": "stream",
     "text": [
      "\n",
      "Question 1 answer:\n",
      "316388911\n"
     ]
    }
   ],
   "source": [
    "\n",
    "# Question 1\n",
    "\n",
    "# Opening file\n",
    "# based on code from class 07 'import1_ch1_import flatfile' slide 5\n",
    "file = open('feed_header_2017-2019.tsv', mode='r')\n",
    "feed = file.read()\n",
    "file.close()\n",
    "\n",
    "# Finding the length (number of characters) of a string\n",
    "# based on code from class 02 'intro_ch3_functions_methods_packages' slide 12 & exercise 2 'String Methods'\n",
    "ans1 = len(feed)\n",
    "\n",
    "# printing answer\n",
    "print('')\n",
    "print('Question 1 answer:')\n",
    "print(ans1)"
   ]
  },
  {
   "cell_type": "markdown",
   "metadata": {},
   "source": [
    "##### Question 2: Find the number of words in the file and assign it to the `ans2` variable.\n",
    "- We consider <b>word</b> as all numbers, special characters, and text separated by white space.\n",
    "\n",
    "[Hint]\n",
    "- `split` option : https://www.w3schools.com/python/ref_string_split.asp"
   ]
  },
  {
   "cell_type": "code",
   "execution_count": 4,
   "metadata": {},
   "outputs": [
    {
     "name": "stdout",
     "output_type": "stream",
     "text": [
      "\n",
      "Question 2 answer:\n",
      "26223290\n"
     ]
    }
   ],
   "source": [
    "\n",
    "# Question 2\n",
    "\n",
    "# Splitting the string into words\n",
    "# based on code from https://www.w3schools.com/python/ref_string_split.asp\n",
    "word = feed.split()\n",
    "\n",
    "# Counting the number of words\n",
    "# based on code from class 02 'intro_ch3_functions_methods_packages' slide 12 & exercise 3 'List methods and functions'\n",
    "ans2 = len(word)\n",
    "\n",
    "# Printing answer\n",
    "print('')\n",
    "print('Question 2 answer:')\n",
    "print(ans2)"
   ]
  },
  {
   "cell_type": "markdown",
   "metadata": {},
   "source": [
    "##### Question 3: Find the number of lines in the file and assign it to the `ans3` variable."
   ]
  },
  {
   "cell_type": "code",
   "execution_count": 5,
   "metadata": {},
   "outputs": [
    {
     "name": "stdout",
     "output_type": "stream",
     "text": [
      "\n",
      "Question 3 answer:\n",
      "1765126\n"
     ]
    }
   ],
   "source": [
    "# Question 3\n",
    "\n",
    "# Counting the number of lines\n",
    "# based on code from class 07 'import1_ch1_import flatfile'\n",
    "ans3 = len(feed.split('\\n'))\n",
    "\n",
    "# printing answer\n",
    "print('')\n",
    "print('Question 3 answer:')\n",
    "print(ans3)"
   ]
  },
  {
   "cell_type": "markdown",
   "metadata": {},
   "source": [
    "### From now on, you will decide which industry area you will analyze to investigate the trend of that industry. \n",
    "### To do so, you will select the first digit of `SIC` code.\n",
    "\n",
    "##### Question 4: Divide the `student_id` by 7, and add 1 to the `remainder`. <br> $\\;\\;\\;\\;\\;\\;\\;\\;\\;\\;\\;\\;\\;\\;\\;$ Use `int` function to drop the decimal point. Assign its value to the `ans4` variable."
   ]
  },
  {
   "cell_type": "code",
   "execution_count": 5,
   "metadata": {},
   "outputs": [
    {
     "name": "stdout",
     "output_type": "stream",
     "text": [
      "\n",
      "Question 4 answer:\n",
      "7\n"
     ]
    }
   ],
   "source": [
    "\n",
    "# Question 4\n",
    "\n",
    "# Calculating residual from student_id/7 and adding 1\n",
    "ans4 = int(student_id%7 + 1)\n",
    "\n",
    "# printing answer\n",
    "print('')\n",
    "print('Question 4 answer:')\n",
    "print(ans4)"
   ]
  },
  {
   "cell_type": "markdown",
   "metadata": {},
   "source": [
    "### Now, you have the first digit of `SIC` that you will analyze.\n",
    "### Please extract the rows of the following condition. \n",
    "- Read the `tsv` using `pandas` function. \n",
    "- Save the dataframe name as `df`.\n",
    "- You can extract this condition using various methods such as  `for-loop`, `pandas`, and `numpy`.\n",
    "\n",
    "\n",
    "##### Question 5: Find the shape of `df` and assign it to the `ans5` variable.\n",
    "- You need to read the file using pandas first and save it as `df`.\n",
    "- Next, filter the row based on your `ans4` value and save this filtered dataframe as `df`.\n",
    "- When you do sorting, please make `ASSIGNED-SIC` as `float` first.\n",
    "- We need rows with an `ASSIGNED-SIC` column value ranging in `[ans4*1000,(ans4+1)*1000)`.\n",
    "- Next, please sort the values that come in this range.\n",
    "- Therefore, the filtered dataframe will be `df`!\n",
    "- `ans5` value type should be `tuple`."
   ]
  },
  {
   "cell_type": "code",
   "execution_count": 3,
   "metadata": {},
   "outputs": [],
   "source": [
    "\n",
    "# Question 5\n",
    "\n",
    "# Reading file as panda DataFrame\n",
    "# based on code from class 07 'import1_ch1_import flatfile' exercise Pandas DataFrame!!\n",
    "df = pd.read_csv('feed_header_2017-2019.tsv', sep='\\t')"
   ]
  },
  {
   "cell_type": "code",
   "execution_count": 6,
   "metadata": {},
   "outputs": [],
   "source": [
    "\n",
    "# Converting ASSIGNED-SIC to float\n",
    "# based on code from https://pandas.pydata.org/pandas-docs/stable/reference/api/pandas.DataFrame.astype.html\n",
    "df['ASSIGNED-SIC'].astype('float')\n",
    "\n",
    "# Filtering ASSIGNED-SIC and sorting values\n",
    "# based on code from class 06 'pandas part1 exploratory data analysis' exercise sort_values() and https://pandas.pydata.org/docs/reference/api/pandas.DataFrame.sort_values.html\n",
    "df = df[df['ASSIGNED-SIC']>=ans4*1000]\n",
    "df = df[df['ASSIGNED-SIC']<=(ans4+1)*1000]\n",
    "df = df.sort_values('ASSIGNED-SIC', ascending=False, ignore_index= True)"
   ]
  },
  {
   "cell_type": "code",
   "execution_count": 7,
   "metadata": {},
   "outputs": [
    {
     "name": "stdout",
     "output_type": "stream",
     "text": [
      "\n",
      "Question 5 answer:\n",
      "(144212, 12)\n"
     ]
    }
   ],
   "source": [
    "\n",
    "# Getting the shape of df\n",
    "ans5 = df.shape\n",
    "\n",
    "# printing answer\n",
    "print('')\n",
    "print('Question 5 answer:')\n",
    "print(ans5)"
   ]
  },
  {
   "cell_type": "markdown",
   "metadata": {},
   "source": [
    "##### Question 6: Please find the third most appeared `FORM-TYPE` in dataframe `df` and assign its value to the `ans6`.\n",
    "- You can find the form type information in the `FORM-TYPE` column.\n",
    "\n",
    "[Hint]\n",
    "- dictionary : https://www.w3schools.com/python/python_dictionaries.asp\n",
    "- for-loop : https://www.w3schools.com/python/python_for_loops.asp"
   ]
  },
  {
   "cell_type": "code",
   "execution_count": 8,
   "metadata": {},
   "outputs": [
    {
     "name": "stdout",
     "output_type": "stream",
     "text": [
      "\n",
      "Question 6 answer:\n",
      "10-Q\n"
     ]
    }
   ],
   "source": [
    "\n",
    "# Question 6\n",
    "\n",
    "# Counting the FORM-TYPE and selecting the highest value\n",
    "# based on code from class 06 'pandas part1 exploratory data analysis' exercise #3\n",
    "ans6 = df['FORM-TYPE'].value_counts().index[2]\n",
    "\n",
    "# printing answer\n",
    "print('')\n",
    "print('Question 6 answer:')\n",
    "print(ans6)"
   ]
  },
  {
   "cell_type": "markdown",
   "metadata": {},
   "source": [
    "##### Question 7: How many rows are there which `CITY` value is `SEATTLE` in dataframe `df`?\n",
    "- You can find the city information in the `CITY` column.\n",
    "\n",
    "[Hint]\n",
    "- `count` method : https://www.w3schools.com/python/ref_list_count.asp\n",
    "- convert dataframe into a list : https://datatofish.com/convert-pandas-dataframe-to-list/"
   ]
  },
  {
   "cell_type": "code",
   "execution_count": 9,
   "metadata": {},
   "outputs": [],
   "source": [
    "\n",
    "# Question 7\n",
    "\n",
    "# Filtering for SEATLE \n",
    "ans7 = df[df['CITY']=='SEATTLE'][['CITY']].count()[0]"
   ]
  },
  {
   "cell_type": "code",
   "execution_count": 10,
   "metadata": {},
   "outputs": [
    {
     "name": "stdout",
     "output_type": "stream",
     "text": [
      "\n",
      "Question 7 answer:\n",
      "1211\n"
     ]
    }
   ],
   "source": [
    "\n",
    "# printing answer\n",
    "print('')\n",
    "print('Question 7 answer:')\n",
    "print(ans7)"
   ]
  },
  {
   "cell_type": "markdown",
   "metadata": {},
   "source": [
    "##### Question 8: How many cases are the same as the first 10 digits of `ACCESSION-NUMBER` and the `CIK` column value? <br> $\\;\\;\\;\\;\\;\\;\\;\\;\\;\\;\\;\\;\\;\\;\\;$Please assign the total number of cases to the `ans8`.\n",
    "- `ACCESSION-NUMBER` stands for the unique Document ID.\n",
    "- Here is the example of `ACCESSION-NUMBER` : `0001193125-19-230866` \n",
    "- The first 10 digits (`0001193125`) comprise the Central Index Key (CIK) of the entity submitting the filing.\n",
    "- This filing could be submitted by either the company or a third-party filer agent.\n",
    "- If the company submit the file, then first 10 digits will be the same as its CIK value.\n",
    "- For comparison, please convert both `CIK` value and first 10 digts of `ACESSION-NUMBER` as `integer`. \n",
    "- For example, we do not need first three zero in the case of `0001193125`. So the number should be `1193125`.\n",
    "\n",
    "[Hint]\n",
    "- `split` method : https://www.w3schools.com/python/ref_string_split.asp\n",
    "- `numpy` : https://numpy.org/\n",
    "- for-loop : https://www.w3schools.com/python/python_for_loops.asp"
   ]
  },
  {
   "cell_type": "code",
   "execution_count": 11,
   "metadata": {},
   "outputs": [],
   "source": [
    "\n",
    "# Question 8\n",
    "\n",
    "# Splitting the ACCESSION-NUMBER\n",
    "# based on code from class 05 'inter_ch4_loop group exercises'\n",
    "lst = []\n",
    "for x in df['ACCESSION-NUMBER']:\n",
    "    lst.append(x.split('-'))\n",
    "\n",
    "# Adding first 10 digits of ACESSION-NUMBER as integer to df\n",
    "# based on code from class 03 'inter_ch2_dictionaries_pandas'\n",
    "accession = pd.DataFrame(lst)\n",
    "df['first10digit'] = accession[0]\n",
    "df['first10digit'] = df['first10digit'].astype('int64')\n",
    "df['CIK'] = df['CIK'].astype('int64')"
   ]
  },
  {
   "cell_type": "code",
   "execution_count": 12,
   "metadata": {},
   "outputs": [],
   "source": [
    "\n",
    "# Counting the cases where CIK and 10 digits of ACESSION-NUMBER are the same\n",
    "# based on code from class 06 'pandas part1 exploratory data analysis'\n",
    "ans8 = df[df['CIK']==df['first10digit']][['id']].count()[0]"
   ]
  },
  {
   "cell_type": "code",
   "execution_count": 13,
   "metadata": {},
   "outputs": [
    {
     "name": "stdout",
     "output_type": "stream",
     "text": [
      "\n",
      "Question 8 answer:\n",
      "30277\n"
     ]
    }
   ],
   "source": [
    "\n",
    "# printing answer\n",
    "print('')\n",
    "print('Question 8 answer:')\n",
    "print(ans8)"
   ]
  },
  {
   "cell_type": "markdown",
   "metadata": {},
   "source": [
    "### From questions 9 to 12, you will analyze the feature of the company name.\n",
    "### To solve questions 9~ 12, you need to use the `CONFORMED-NAME` column value from the dataframe `df`."
   ]
  },
  {
   "cell_type": "markdown",
   "metadata": {},
   "source": [
    "##### Question 9: Find the longest company name and assign it to the `ans9`.\n",
    "\n",
    "- You do not need to split the value to extract the company name. \n",
    "- Here are company name examples : `Apple, inc.`, `Amazon, inc.`"
   ]
  },
  {
   "cell_type": "code",
   "execution_count": 14,
   "metadata": {},
   "outputs": [],
   "source": [
    "\n",
    "# Question 9\n",
    "\n",
    "# Checking for longest name\n",
    "# based on code from class 05 'inter_ch4_loop group exercises'\n",
    "ct = 0\n",
    "nm = ''\n",
    "for x in df['CONFORMED-NAME']:\n",
    "    if len(x)>ct:\n",
    "        ct = len(x)\n",
    "        nm = x\n",
    "ans9 = nm"
   ]
  },
  {
   "cell_type": "code",
   "execution_count": 15,
   "metadata": {},
   "outputs": [
    {
     "name": "stdout",
     "output_type": "stream",
     "text": [
      "\n",
      "Question 9 answer:\n",
      "Wellington Trust Company, National Association Multiple Common Trust Funds Trust, Micro Cap Equity P\n"
     ]
    }
   ],
   "source": [
    "\n",
    "# printing answer\n",
    "print('')\n",
    "print('Question 9 answer:')\n",
    "print(ans9)"
   ]
  },
  {
   "cell_type": "markdown",
   "metadata": {},
   "source": [
    "##### Question 10: Find the most common `word` among company names and assign it to the `ans10`.\n",
    "\n",
    "- We consider <b>word</b> as all numbers, special characters, and text separated by white space.\n",
    "- You will get the <b>word</b> using the `split` method.\n",
    "- For Question 10, each <b>word</b> is case-sensitive.\n",
    "- Also, please do not remove the special characters and punctuation. (e.g., co., inc.)\n",
    "\n",
    "[Hint]\n",
    "\n",
    "- `split` method : https://www.w3schools.com/python/ref_string_split.asp"
   ]
  },
  {
   "cell_type": "code",
   "execution_count": 16,
   "metadata": {},
   "outputs": [],
   "source": [
    "\n",
    "# Question 10\n",
    "\n",
    "# Splitting companies names into words\n",
    "# based on code from class 05 'inter_ch4_loop group exercises' and extend method from https://www.programiz.com/python-programming/methods/list/extend\n",
    "lst2 = []\n",
    "for x in df['CONFORMED-NAME']:\n",
    "    lst2.extend(x.split())\n",
    "name_words = pd.DataFrame(lst2)\n",
    "\n",
    "# Counting words in all the names\n",
    "# based on code from class 06 'pandas part1 exploratory data analysis'\n",
    "ans10 = name_words[0].value_counts().index[0]"
   ]
  },
  {
   "cell_type": "code",
   "execution_count": 19,
   "metadata": {},
   "outputs": [
    {
     "name": "stdout",
     "output_type": "stream",
     "text": [
      "\n",
      "Question 10 answer:\n",
      "Inc.\n"
     ]
    }
   ],
   "source": [
    "\n",
    "# printing answer\n",
    "print('')\n",
    "print('Question 10 answer:')\n",
    "print(ans10)"
   ]
  },
  {
   "cell_type": "markdown",
   "metadata": {},
   "source": [
    "### What was the answer to `ans10`? \n",
    "### Do you think the answer is informative?\n",
    "### If not, the reason is that the value is not well preprocessed.\n",
    "### For better interpretation, we need to take a preprocessing step.\n",
    "### Data preprocessing can be defined as manipulating or extracting the data to enhance data analytic performance.\n",
    "### Data preprocessing is an important step in the data mining process."
   ]
  },
  {
   "cell_type": "markdown",
   "metadata": {},
   "source": [
    "##### Question 11: Find the most common word among company names after `preprocessing` the data and assign it to the `ans11`.\n",
    "\n",
    "[Please follow the below preprocessing step]\n",
    "- Please lowercase the company name value. -> `Inc.` should be `inc.`\n",
    "- Please remove all special characters and punctuation from a string. -> `inc.` should be `inc`\n",
    "- To remove all special characters and punctuation, please use the following syntax : `'[^0-9a-zA-Z]+'`\n",
    "- The value should consist of letters and numbers. -> `inc`\n",
    "- Also, filter the value which length is less than 1. -> if there is a value `i`, then `i` should be removed\n",
    "\n",
    "[Hint]\n",
    "- Use regular expression : https://newbedev.com/replace-all-non-alphanumeric-characters-in-a-string"
   ]
  },
  {
   "cell_type": "code",
   "execution_count": 21,
   "metadata": {},
   "outputs": [],
   "source": [
    "\n",
    "# Question 11\n",
    "\n",
    "# based on code from https://www.kite.com/python/answers/how-to-make-a-pandas-dataframe-string-column-lowercase-in-python\n",
    "df['preprocessing-NAME'] = df['CONFORMED-NAME'].str.lower()\n",
    "\n",
    "# spliting words\n",
    "# based on code from class 05 'inter_ch4_loop group exercises' and extend method from https://www.programiz.com/python-programming/methods/list/extend\n",
    "lst3 = []\n",
    "for x in df['preprocessing-NAME']:\n",
    "    lst3.extend(x.split())\n",
    "\n",
    "\n",
    "# removing all special characters and punctuation and removing 1 letter words\n",
    "# based on code from class 05 'inter_ch4_loop group exercises' and https://newbedev.com/replace-all-non-alphanumeric-characters-in-a-string\n",
    "lst4 = []\n",
    "import re\n",
    "for a in lst3:\n",
    "    a1 = re.sub('[^0-9a-zA-Z]+', '', a)\n",
    "    if len(a1)>1:\n",
    "        lst4.append(a1)\n",
    "\n",
    "name_words2 = pd.DataFrame(lst4)\n",
    "\n",
    "# Counting words in all the names\n",
    "# based on code from class 06 'pandas part1 exploratory data analysis'\n",
    "ans11 = name_words2[0].value_counts().index[0]"
   ]
  },
  {
   "cell_type": "code",
   "execution_count": 21,
   "metadata": {},
   "outputs": [
    {
     "name": "stdout",
     "output_type": "stream",
     "text": [
      "\n",
      "Question 11 answer:\n",
      "inc\n"
     ]
    }
   ],
   "source": [
    "\n",
    "# printing answer\n",
    "print('')\n",
    "print('Question 11 answer:')\n",
    "print(ans11)"
   ]
  },
  {
   "cell_type": "markdown",
   "metadata": {},
   "source": [
    "### Last step of  preprocessing the data is to get rid of the  `stopword`.\n",
    "### `Stopwords` are generally the most common words in a language and may not be meaningful such as `the`, `a`, `of` and `or`.\n",
    "### In the industry section, the following words can be stopwords (`inc`, `co`, `se`, `ltd`, ... ).\n",
    "### Therefore, you need to delete the `stopwords` to get the most precise result.\n",
    "\n",
    "##### Question 12: Find the most common word among company names after removing stopwords and assign it to the `ans12`.\n",
    "- We consider <b>word</b> as all numbers and text separated by white space.\n",
    "- Filter the word if the word includes any items among the provided `stopwords` list.\n",
    "- `stopwords` list : `['inc','corp','co','ltd','de','llc','group','holdings','lp','plc','cf','sa','nv','gt','as','rr']`"
   ]
  },
  {
   "cell_type": "code",
   "execution_count": 22,
   "metadata": {},
   "outputs": [],
   "source": [
    "\n",
    "# Question 12\n",
    "\n",
    "# Defining stopwords\n",
    "stopwords = ['inc','corp','co','ltd','de','llc','group','holdings','lp','plc','cf','sa','nv','gt','as','rr']\n",
    "\n",
    "# Building on what was done on Question 11, the lst4 generated in that question is used to filter stopwords\n",
    "# based on code from class 05 'inter_ch4_loop group exercises'\n",
    "lst5 = []\n",
    "for a in lst4:\n",
    "    d=0\n",
    "    for b in stopwords:\n",
    "        if a == b:\n",
    "            d = d + 1\n",
    "    if d==0:\n",
    "        if len(a)>1:\n",
    "            lst5.append(a)\n",
    "\n",
    "\n",
    "name_words3 = pd.DataFrame(lst5)\n",
    "\n",
    "# Counting words in all the names\n",
    "# based on code from class 06 'pandas part1 exploratory data analysis'\n",
    "ans12 = name_words3[0].value_counts().index[0]"
   ]
  },
  {
   "cell_type": "code",
   "execution_count": 23,
   "metadata": {},
   "outputs": [
    {
     "name": "stdout",
     "output_type": "stream",
     "text": [
      "\n",
      "Question 12 answer:\n",
      "international\n"
     ]
    }
   ],
   "source": [
    "\n",
    "# printing answer\n",
    "print('')\n",
    "print('Question 12 answer:')\n",
    "print(ans12)"
   ]
  },
  {
   "cell_type": "markdown",
   "metadata": {},
   "source": [
    "### Question 13 ~ 15: You want to see the trend of  `STATE` where the companies submit the `10-K` report in `2018` or `2019` from the `df` dataframe.\n",
    "- The first step is to make the new column, `year`, which includes the year value from `FILING-DATE` column.\n",
    "- Please convert the `year` column datatype as `int`.\n",
    "- Next, filter the dataframe which <b>1)</b> `Form-Type` is `10-K` and <b>2)</b> `Year` is `2018` or `2019` and assign the filtered result as the\n",
    "`df_10K`."
   ]
  },
  {
   "cell_type": "markdown",
   "metadata": {},
   "source": [
    "##### Question 13: Please find the unique number of states from the dataframe `df_10K` and assign it to the `ans13`.\n",
    "[Hint]\n",
    "- `.nunique()` method:  https://pandas.pydata.org/pandas-docs/stable/reference/api/pandas.DataFrame.nunique.html"
   ]
  },
  {
   "cell_type": "code",
   "execution_count": 24,
   "metadata": {},
   "outputs": [],
   "source": [
    "\n",
    "# Question 13\n",
    "\n",
    "# Creating 'year' column\n",
    "# based on code from class 05 'inter_ch4_loop group exercises'\n",
    "lst6 = []\n",
    "for x in df['FILING-DATE']:\n",
    "    lst6.append(x.split('-'))\n",
    "\n",
    "datelst = pd.DataFrame(lst6)\n",
    "df['year'] = datelst[0]\n",
    "df['year'] = df['year'].astype('int64')\n",
    "\n",
    "# Filter 10-K form and 2018/2019 years\n",
    "# based on code from class 06 'pandas part1 exploratory data analysis' and https://pandas.pydata.org/pandas-docs/stable/user_guide/indexing.html#boolean-indexing\n",
    "df_10K = df[df['FORM-TYPE']=='10-K']\n",
    "df_10K = df_10K[(df_10K['year']==2018) | (df_10K['year']==2019)]\n",
    "df_10K = df_10K.sort_values('ASSIGNED-SIC', ascending=False, ignore_index= True)\n",
    "\n",
    "# Find unique number of states\n",
    "# based on code from  https://pandas.pydata.org/pandas-docs/stable/reference/api/pandas.DataFrame.nunique.html\n",
    "ans13 = df_10K['STATE'].nunique()"
   ]
  },
  {
   "cell_type": "code",
   "execution_count": 25,
   "metadata": {},
   "outputs": [
    {
     "name": "stdout",
     "output_type": "stream",
     "text": [
      "\n",
      "Question 13 answer:\n",
      "75\n"
     ]
    }
   ],
   "source": [
    "\n",
    "# printing answer\n",
    "print('')\n",
    "print('Question 13 answer:')\n",
    "print(ans13)"
   ]
  },
  {
   "cell_type": "markdown",
   "metadata": {},
   "source": [
    "### You are provided `states` information in `us_states.csv`.\n",
    "### If comparing `states` list from  `df_10K`  with `us_states.csv`, you will notice that some state names are invalid. \n",
    "### Therefore, you need to preprocess the `State` value in `df_10K` dataframe. \n",
    "### Download `us_state.csv` file into the same directory, where `hw1_starter.ipynb` is located. (If not, there will be an extra deduction on your grade)\n",
    "### Read the `us_states.csv` file and remove rows with invalid states from `df_10K` dataframe.\n",
    "\n",
    "##### Question 14: Please find the unique number of valid states from the dataframe `df_10K_state` and assign its value to the `ans14`.\n",
    "- Use the `pandas` library to open the `us_states.csv` file as a dataframe `usa_states`.\n",
    "- Get rid of rows which `STATE` column value is not the same as `State` column value from dataframe `usa_states`.\n",
    "- Save the preprocessed dataframe name as `df_10K_state`."
   ]
  },
  {
   "cell_type": "code",
   "execution_count": 26,
   "metadata": {},
   "outputs": [],
   "source": [
    "\n",
    "# Question 14\n",
    "\n",
    "# Importing us_states.csv\n",
    "# based on code from class 07 'import1_ch1_import flatfile' exercise Pandas DataFrame!!\n",
    "usa_states = pd.read_csv('us_states.csv')\n",
    "\n",
    "# Removing rows with states not in 'us_states.csv' list\n",
    "# based on code from class 05 'inter_ch4_loop group exercises'\n",
    "lst7 = []\n",
    "for a in df_10K['STATE']:\n",
    "    s=0\n",
    "    for b in usa_states['State']:\n",
    "        if a == b:\n",
    "            s = s + 1\n",
    "    if s==0:\n",
    "        lst7.append(False)\n",
    "    else:\n",
    "        lst7.append(True)\n",
    "\n",
    "US_State = pd.DataFrame(lst7)\n",
    "\n",
    "df_10K['STATE_FLAG'] = US_State[0]\n",
    "\n",
    "df_10K_state = df_10K[df_10K['STATE_FLAG']==True]\n",
    "\n",
    "# Find unique number of states\n",
    "# based on code from  https://pandas.pydata.org/pandas-docs/stable/reference/api/pandas.DataFrame.nunique.html\n",
    "ans14 = df_10K_state['STATE'].nunique()"
   ]
  },
  {
   "cell_type": "code",
   "execution_count": 27,
   "metadata": {},
   "outputs": [
    {
     "name": "stdout",
     "output_type": "stream",
     "text": [
      "\n",
      "Question 14 answer:\n",
      "44\n"
     ]
    }
   ],
   "source": [
    "\n",
    "# printing answer\n",
    "print('')\n",
    "print('Question 14 answer:')\n",
    "print(ans14)"
   ]
  },
  {
   "cell_type": "markdown",
   "metadata": {},
   "source": [
    "##### Question 15: Find the number of `10-K` reports from the state of `NY` from the  `df_10K_state` dataframe."
   ]
  },
  {
   "cell_type": "code",
   "execution_count": 28,
   "metadata": {},
   "outputs": [],
   "source": [
    "\n",
    "# Question 15\n",
    "\n",
    "# Counting 10-K from NY\n",
    "# based on code from class 06 'pandas part1 exploratory data analysis'\n",
    "ans15 = df_10K_state['STATE'][df_10K_state['STATE']==\"NY\"].count()"
   ]
  },
  {
   "cell_type": "code",
   "execution_count": 29,
   "metadata": {},
   "outputs": [
    {
     "name": "stdout",
     "output_type": "stream",
     "text": [
      "\n",
      "Question 15 answer:\n",
      "166\n"
     ]
    }
   ],
   "source": [
    "\n",
    "# printing answer\n",
    "print('')\n",
    "print('Question 15 answer:')\n",
    "print(ans15)"
   ]
  },
  {
   "cell_type": "markdown",
   "metadata": {},
   "source": [
    "##### Question 16: Make the `bar` graph based on the following instructions.\n",
    "- You want to know the top <b>7</b> states where the `10-K` reports were most reported.\n",
    "- To make a <b>bar</b> graph, please use the `df_10K_state` dataframe.\n",
    "- Before drawing the graph, make the `state_count` dictionary which contains the state and the number of 10-K reports for that state.<br/>\n",
    "  (e.g.) <b>{'NY': 166, 'CA':  ... }</b>\n",
    "- Set all labels' font size as font size <b>15</b>. \n",
    "- Set the xlabel as \"`STATE`\" (please use `STATE` column).\n",
    "- Set the ylabel as \"`Number of 10-K reports`\" (please use `state_count` dictionary).\n",
    "- Set the title as \"`Number of 10-K reports in 2018 and 2019`\".\n",
    "- Save the graph named \"`hw1_ans16_{student_id}.png`\".<br/>\n",
    "  (e.g.) <b>hw1_ans16_37510930.png</b>"
   ]
  },
  {
   "cell_type": "code",
   "execution_count": 30,
   "metadata": {},
   "outputs": [
    {
     "data": {
      "image/png": "[encoded data removed]",
      "text/plain": [
       "<Figure size 432x288 with 1 Axes>"
      ]
     },
     "metadata": {
      "needs_background": "light"
     },
     "output_type": "display_data"
    }
   ],
   "source": [
    "\n",
    "# Question 16\n",
    "\n",
    "# Creating state_count dictionary\n",
    "# based on code from https://pandas.pydata.org/docs/reference/api/pandas.Series.to_dict.html\n",
    "state_count = df_10K_state['STATE'].value_counts()[:7]\n",
    "state_count = state_count.to_dict()\n",
    "\n",
    "# Plot bar chart\n",
    "# based on code from 'inter_ch1_matplotlib_basic_plots', https://matplotlib.org/stable/tutorials/text/text_intro.html,\n",
    "# https://matplotlib.org/stable/api/_as_gen/matplotlib.pyplot.savefig.html and class 5 'inter_ch4_advanced looping'\n",
    "plt.bar(df_10K_state['STATE'].value_counts().index[:7], state_count.values())\n",
    "plt.xlabel('STATE', fontsize = 15)\n",
    "plt.ylabel('Number of 10-K reports', fontsize = 15)\n",
    "plt.title('Number of 10-K reports in 2018 and 2019', fontsize = 15)\n",
    "plt.savefig('hw1_ans16_{}.png'.format(student_id))\n",
    "plt.show()"
   ]
  },
  {
   "cell_type": "markdown",
   "metadata": {},
   "source": [
    "##### Question 17: Continue to make the `Horizontal bar` graph using the same dataset in Q16. Assign different colors to each bar and arrange the bars in descending order (Large to small from top to bottom).\n",
    "- Use the `state_count` dictionary you just generated.\n",
    "- Assign different colors to each bar (You can choose any colors you want).\n",
    "- Arrange the bars in descending order.\n",
    "- Set all labels' font size as font size <b>15</b>. \n",
    "- Set the ylabel as \"`STATE`\".\n",
    "- Set the xlabel as \"`Number of 10-K reports`\".\n",
    "- Set the title as \"`Number of 10-K reports in 2018 and 2019`\".\n",
    "- Save the graph named \"`hw1_ans17_{student_id}.png`\".<br/>\n",
    "  (e.g.) <b>hw1_ans17_37510930.png</b>"
   ]
  },
  {
   "cell_type": "code",
   "execution_count": 31,
   "metadata": {
    "scrolled": true
   },
   "outputs": [
    {
     "data": {
      "image/png": "[encoded data removed]",
      "text/plain": [
       "<Figure size 432x288 with 1 Axes>"
      ]
     },
     "metadata": {
      "needs_background": "light"
     },
     "output_type": "display_data"
    }
   ],
   "source": [
    "\n",
    "# Question 17\n",
    "\n",
    "# Plot bar chart\n",
    "# based on code from 'inter_ch1_matplotlib_basic_plots', https://matplotlib.org/stable/tutorials/text/text_intro.html, \n",
    "# https://matplotlib.org/stable/api/_as_gen/matplotlib.pyplot.savefig.html, class 5 'inter_ch4_advanced looping', \n",
    "# https://matplotlib.org/stable/gallery/lines_bars_and_markers/barh.html, \n",
    "# https://stackoverflow.com/questions/34076177/matplotlib-horizontal-bar-chart-barh-is-upside-down \n",
    "# and https://www.python-graph-gallery.com/3-control-color-of-barplots\n",
    "plt.barh(df_10K_state['STATE'].value_counts().index[:7], state_count.values(), color=['brown','violet','red','orange','grey','green','yellow'])\n",
    "plt.xlabel('Number of 10-K reports', fontsize = 15)\n",
    "plt.ylabel('STATE', fontsize = 15)\n",
    "plt.title('Number of 10-K reports in 2018 and 2019', fontsize = 15)\n",
    "plt.gca().invert_yaxis()\n",
    "plt.savefig('hw1_ans17_{}.png'.format(student_id))\n",
    "plt.show()"
   ]
  },
  {
   "cell_type": "markdown",
   "metadata": {},
   "source": [
    "##### Question 18: Make a `Line Plot` to show the number of 10-K reports in state `NY` and `MA` by month in 2018.\n",
    "- Use the `df_10K_state` dataframe for analysis. \n",
    "- Filter out all the 10-K reports in `NY` and `MA` in 2018 and store them as `df_10K_2018`.\n",
    "- Generate a new column `FILING-MONTH` from column `FILING-DATE`, which records the month of `FILING-DATE`.(eg. `2018-09-01` -> `09`).\n",
    "- Calculate the number of reports in each month for `NY` and `MA`. Store them separately in two dictionaries: `dict_ny` and `dict_ma`. \n",
    "- Sort the dictionary by the key(`month`).\n",
    "- Make the plot based on the dictionaries.\n",
    "- Set all labels' font size as font size <b>15</b>. \n",
    "- Set the ylabel as \"`Number of 10-K reports`\" .\n",
    "- Set the xlabel as \"`Months`\".\n",
    "- Set the title as \"`The Number of 10-k reports by Months in 2018`\".\n",
    "- Add legend to the plot.\n",
    "- Save the graph named \"`hw1_ans18_{student_id}.png`\".<br/>\n",
    "  (e.g.) <b>hw1_ans18_37510930.png</b>\n",
    " \n",
    "[Hint]\n",
    "- `apply` : https://www.geeksforgeeks.org/python-pandas-apply/\n",
    "- `lamda` : https://www.w3schools.com/python/python_lambda.asp\n",
    "- `sorting dictionary` : https://www.kite.com/python/answers/how-to-sort-a-dictionary-by-key-in-python"
   ]
  },
  {
   "cell_type": "code",
   "execution_count": 33,
   "metadata": {
    "scrolled": true
   },
   "outputs": [
    {
     "name": "stderr",
     "output_type": "stream",
     "text": [
      "<ipython-input-33-bffe18140511>:15: SettingWithCopyWarning: \n",
      "A value is trying to be set on a copy of a slice from a DataFrame.\n",
      "Try using .loc[row_indexer,col_indexer] = value instead\n",
      "\n",
      "See the caveats in the documentation: https://pandas.pydata.org/pandas-docs/stable/user_guide/indexing.html#returning-a-view-versus-a-copy\n",
      "  df_10K_state['FILING-MONTH'] = datelst2[1]\n",
      "<ipython-input-33-bffe18140511>:16: SettingWithCopyWarning: \n",
      "A value is trying to be set on a copy of a slice from a DataFrame.\n",
      "Try using .loc[row_indexer,col_indexer] = value instead\n",
      "\n",
      "See the caveats in the documentation: https://pandas.pydata.org/pandas-docs/stable/user_guide/indexing.html#returning-a-view-versus-a-copy\n",
      "  df_10K_state['FILING-MONTH'] = df_10K_state['FILING-MONTH'].astype('int64')\n"
     ]
    },
    {
     "data": {
      "image/png": "[encoded data removed]",
      "text/plain": [
       "<Figure size 432x288 with 1 Axes>"
      ]
     },
     "metadata": {
      "needs_background": "light"
     },
     "output_type": "display_data"
    }
   ],
   "source": [
    "\n",
    "# Question 18\n",
    "\n",
    "# Creating df_10K_2018 \n",
    "# based on code from https://pandas.pydata.org/pandas-docs/stable/user_guide/indexing.html#boolean-indexing\n",
    "df_10K_2018 = df_10K_state[(df_10K_state['STATE']=='NY')| (df_10K_state['STATE']=='MA')]\n",
    "df_10K_2018 = df_10K_2018.sort_values('ASSIGNED-SIC', ascending=False, ignore_index= True)\n",
    "\n",
    "# Creating 'month' column\n",
    "# based on code from class 05 'inter_ch4_loop group exercises'\n",
    "lst8 = []\n",
    "for x in df['FILING-DATE']:\n",
    "    lst8.append(x.split('-'))\n",
    "\n",
    "datelst2 = pd.DataFrame(lst8)\n",
    "df_10K_state['FILING-MONTH'] = datelst2[1]\n",
    "df_10K_state['FILING-MONTH'] = df_10K_state['FILING-MONTH'].astype('int64')\n",
    "\n",
    "# Creating dict_ny and dict_ma dictionary\n",
    "# based on code from https://pandas.pydata.org/docs/reference/api/pandas.Series.to_dict.html\n",
    "# and https://www.w3resource.com/pandas/series/series-sort_index.php\n",
    "dict_ny = df_10K_state[df_10K_state['STATE']=='NY']['FILING-MONTH'].value_counts()\n",
    "dict_ny = dict_ny.sort_index()\n",
    "dict_ny = dict_ny.to_dict()\n",
    "\n",
    "dict_ma = df_10K_state[df_10K_state['STATE']=='MA']['FILING-MONTH'].value_counts()\n",
    "dict_ma = dict_ma.sort_index()\n",
    "dict_ma = dict_ma.to_dict()\n",
    "\n",
    "# Plot Line Plot\n",
    "# based on code from 'inter_ch1_matplotlib_basic_plots', https://matplotlib.org/stable/tutorials/text/text_intro.html,\n",
    "# https://matplotlib.org/stable/api/_as_gen/matplotlib.pyplot.savefig.html, class 5 'inter_ch4_advanced looping'\n",
    "# and https://matplotlib.org/stable/api/_as_gen/matplotlib.pyplot.legend.html\n",
    "plt.plot(dict_ny.keys(), dict_ny.values(), label = 'NY')\n",
    "plt.plot(dict_ma.keys(), dict_ma.values(), label = 'MA')\n",
    "plt.legend()\n",
    "plt.xlabel('Months', fontsize = 15)\n",
    "plt.ylabel('Number of 10-K reports', fontsize = 15)\n",
    "plt.title('The Number of 10-k reports by Months in 2018', fontsize = 15)\n",
    "plt.savefig('hw1_ans18_{}.png'.format(student_id))\n",
    "plt.show()"
   ]
  },
  {
   "cell_type": "markdown",
   "metadata": {},
   "source": [
    "##### Question 19: How many 10-K reports are generated in each city between 2018 and 2019? Please draw a `histogram` showing the distribution of 10-K report numbers for all cities. Set the bin numbers to `20` \n",
    "- Use the `df_10K_state` dataframe for analysis.\n",
    "- Utilize the `CITY` column to calculate the number of 10-K reports for each city. You may use for-loop, Counter, or groupby.\n",
    "- Make the histogram and set the number of bins to `20`.\n",
    "- Set all labels' font size as font size <b>15</b>. \n",
    "- Set the xlabel as \"`The Number of 10-k reports`\".\n",
    "- Set the title as \"`Distribution of the number of 10-k reports for each city`\".\n",
    "- Save the graph named \"`hw1_ans19_{student_id}.png`\".<br/>\n",
    "  (e.g.) <b>hw1_ans19_37510930.png</b>"
   ]
  },
  {
   "cell_type": "code",
   "execution_count": 34,
   "metadata": {},
   "outputs": [
    {
     "data": {
      "image/png": "[encoded data removed]",
      "text/plain": [
       "<Figure size 432x288 with 1 Axes>"
      ]
     },
     "metadata": {
      "needs_background": "light"
     },
     "output_type": "display_data"
    }
   ],
   "source": [
    "\n",
    "# Question 19\n",
    "\n",
    "# Getting the number of 10-K per city and Plot histogram\n",
    "# based on code from class 06 'pandas part1 exploratory data analysis', 'inter_ch1_matplotlib_basic_plots',\n",
    "# https://matplotlib.org/stable/tutorials/text/text_intro.html,\n",
    "# https://matplotlib.org/stable/api/_as_gen/matplotlib.pyplot.savefig.html and class 5 'inter_ch4_advanced looping'\n",
    "plt.hist(df_10K_state.groupby('CITY')['id'].count(), bins = 20)\n",
    "plt.xlabel('The Number of 10-k reports', fontsize = 15)\n",
    "plt.title('Distribution of the number of 10-k reports for each city', fontsize = 15)\n",
    "plt.savefig('hw1_ans19_{}.png'.format(student_id))\n",
    "plt.show()"
   ]
  },
  {
   "cell_type": "markdown",
   "metadata": {},
   "source": [
    "##### Question 20: Make outfile name format as `hw1_answers_{student_id}.txt` and save it to `txt` file                \n",
    "- when you write the answer, please keep format(please refer to word doc example).\n",
    "- The total line number should be 17.\n",
    "- The first line should be your last name, first name, email.\n",
    "- From the second to before the last line, these lines should be starting with `answer{number}=your_own_answer`. <br>\n",
    " (ex) `answer7=hello` (there will be no whitespace)\n",
    "- The last line should be `HW 1 is done!!!`\n",
    "- file name should be like this : <b>hw1_answers_37510930.txt</b>"
   ]
  },
  {
   "cell_type": "code",
   "execution_count": 35,
   "metadata": {},
   "outputs": [],
   "source": [
    "\n",
    "# Question 20\n",
    "\n",
    "# Writing a text file\n",
    "# based on code from class 07 'import1_ch1_import flatfile' and class 5 'inter_ch4_advanced looping'\n",
    "outfile = open('hw1_answers_{}.txt'.format(student_id), 'w')\n",
    "outfile.write('{}, {}, {}\\n'.format(last_name, first_name, email))\n",
    "\n",
    "outfile.write('answer1={}\\n'.format(ans1))\n",
    "outfile.write('answer2={}\\n'.format(ans2))\n",
    "outfile.write('answer3={}\\n'.format(ans3))\n",
    "outfile.write('answer4={}\\n'.format(ans4))\n",
    "outfile.write('answer5={}\\n'.format(ans5))\n",
    "outfile.write('answer6={}\\n'.format(ans6))\n",
    "outfile.write('answer7={}\\n'.format(ans7))\n",
    "outfile.write('answer8={}\\n'.format(ans8))\n",
    "outfile.write('answer9={}\\n'.format(ans9))\n",
    "outfile.write('answer10={}\\n'.format(ans10))\n",
    "outfile.write('answer11={}\\n'.format(ans11))\n",
    "outfile.write('answer12={}\\n'.format(ans12))\n",
    "outfile.write('answer13={}\\n'.format(ans13))\n",
    "outfile.write('answer14={}\\n'.format(ans14))\n",
    "outfile.write('answer15={}\\n'.format(ans15))\n",
    "\n",
    "\n",
    "outfile.write('HW 1 is done!!!')\n",
    "outfile.close()"
   ]
  },
  {
   "cell_type": "markdown",
   "metadata": {},
   "source": [
    "#### After finishing `hw1`, please submit this python code file !!!!! \n",
    "#### Again, the code file name should be as follows: `hw1_{student_id}.py` \n",
    "(e.g.) hw1_37510930.py"
   ]
  }
 ],
 "metadata": {
  "kernelspec": {
   "display_name": "Python 3",
   "language": "python",
   "name": "python3"
  },
  "language_info": {
   "codemirror_mode": {
    "name": "ipython",
    "version": 3
   },
   "file_extension": ".py",
   "mimetype": "text/x-python",
   "name": "python",
   "nbconvert_exporter": "python",
   "pygments_lexer": "ipython3",
   "version": "3.8.8"
  }
 },
 "nbformat": 4,
 "nbformat_minor": 2
}
